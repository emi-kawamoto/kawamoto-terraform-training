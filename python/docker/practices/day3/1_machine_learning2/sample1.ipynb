{
 "cells": [
  {
   "cell_type": "markdown",
   "id": "68a2157d-a06a-4036-84a5-a34b49b70543",
   "metadata": {
    "tags": []
   },
   "source": [
    "# サンプル"
   ]
  },
  {
   "cell_type": "markdown",
   "id": "2e4ad6d5-1f60-4acb-9f76-f39d70cb6f4f",
   "metadata": {},
   "source": [
    "## データの前処理"
   ]
  },
  {
   "cell_type": "code",
   "execution_count": null,
   "id": "f89a559c-e5c7-4097-b1dc-51101b9af465",
   "metadata": {},
   "outputs": [],
   "source": [
    "%matplotlib inline\n",
    "import matplotlib.pyplot as plt\n",
    "import numpy as np\n",
    "import pandas as pd"
   ]
  },
  {
   "cell_type": "code",
   "execution_count": null,
   "id": "44db910b-6412-448a-a4be-3fbae6b3d75e",
   "metadata": {},
   "outputs": [],
   "source": [
    "# Pandas に読み込み\n",
    "df = pd.read_csv('data/train.csv')"
   ]
  },
  {
   "cell_type": "code",
   "execution_count": null,
   "id": "0521bdb6-360d-4f5c-ad29-d2f8f3ab51fb",
   "metadata": {},
   "outputs": [],
   "source": [
    "# 先頭5件を確認する\n",
    "df.head()"
   ]
  },
  {
   "cell_type": "code",
   "execution_count": null,
   "id": "d097852f-1fd1-4870-846d-475664c7ac80",
   "metadata": {},
   "outputs": [],
   "source": [
    "# 何行・何列か確認する\n",
    "df.shape"
   ]
  },
  {
   "cell_type": "code",
   "execution_count": null,
   "id": "648e4684-71e3-4fb5-be27-efab958c0e81",
   "metadata": {},
   "outputs": [],
   "source": [
    "# カラムの一覧\n",
    "df.columns"
   ]
  },
  {
   "cell_type": "code",
   "execution_count": null,
   "id": "effa9429-f30c-4cb7-889d-2d1269ec2ad3",
   "metadata": {},
   "outputs": [],
   "source": [
    "# 要約を確認する\n",
    "df.describe()"
   ]
  },
  {
   "cell_type": "code",
   "execution_count": null,
   "id": "5ee86948-9a8c-47b5-84aa-3ddbb519add1",
   "metadata": {},
   "outputs": [],
   "source": [
    "# 分布を確認する\n",
    "df['SalePrice'].hist()"
   ]
  },
  {
   "cell_type": "code",
   "execution_count": null,
   "id": "c3af8b1f-855d-4c86-909f-39a11f8a9853",
   "metadata": {},
   "outputs": [],
   "source": [
    "# 散布図で2つの変数の相関を確認する\n",
    "df.plot(kind='scatter', x='YearBuilt', y='SalePrice')"
   ]
  },
  {
   "cell_type": "code",
   "execution_count": null,
   "id": "0dfe5094-e3d9-4f24-91d0-116217b26b7e",
   "metadata": {},
   "outputs": [],
   "source": [
    "# 欠損値の確認\n",
    "df.isnull().sum()[df.isnull().sum()>=1]"
   ]
  },
  {
   "cell_type": "code",
   "execution_count": null,
   "id": "54751da1-b402-4eda-8251-a46c3977b99f",
   "metadata": {},
   "outputs": [],
   "source": [
    "# 中央値で埋める場合\n",
    "df['LotFrontage'] = df[\"LotFrontage\"].fillna(df[\"LotFrontage\"].mean())\n",
    "\n",
    "# レコード毎削除する場合\n",
    "#df = df.dropna(subset=['LotFrontage'])"
   ]
  },
  {
   "cell_type": "code",
   "execution_count": null,
   "id": "2f6a175a-85ca-4d94-b93e-3a3bbeddf251",
   "metadata": {},
   "outputs": [],
   "source": [
    "# ダミー変数を作る\n",
    "df = pd.get_dummies(data=df, columns=[\"SaleType\"])\n",
    "\n",
    "df['Alley'] = df[\"Alley\"].fillna(\"Other\")\n",
    "df = pd.get_dummies(data=df, columns=[\"Alley\"])"
   ]
  },
  {
   "cell_type": "markdown",
   "id": "2f8d5688-24bc-45ba-83a3-f5ff6b406c0b",
   "metadata": {},
   "source": [
    "## モデルの構築"
   ]
  },
  {
   "cell_type": "code",
   "execution_count": null,
   "id": "ddc4136f-3a03-4792-b88a-eeb9a05c986a",
   "metadata": {},
   "outputs": [],
   "source": [
    "from sklearn.linear_model import LinearRegression\n",
    "from sklearn.model_selection import train_test_split\n",
    "from sklearn.metrics import mean_squared_error"
   ]
  },
  {
   "cell_type": "code",
   "execution_count": null,
   "id": "8e5a9078-70bc-43e5-bf42-9a50fdc2bab4",
   "metadata": {},
   "outputs": [],
   "source": [
    "target = \"SalePrice\"\n",
    "exclude = ['Id', 'MSSubClass', 'MSZoning', 'LotFrontage', 'LotArea', 'Street',\n",
    "       'Alley', 'LotShape', 'LandContour', 'Utilities', 'LotConfig',\n",
    "       'LandSlope', 'Neighborhood', 'Condition1', 'Condition2', 'BldgType',\n",
    "       'HouseStyle', 'OverallQual', 'OverallCond', 'YearRemodAdd',\n",
    "       'RoofStyle', 'RoofMatl', 'Exterior1st', 'Exterior2nd', 'MasVnrType',\n",
    "       'MasVnrArea', 'ExterQual', 'ExterCond', 'Foundation', 'BsmtQual',\n",
    "       'BsmtCond', 'BsmtExposure', 'BsmtFinType1', 'BsmtFinSF1',\n",
    "       'BsmtFinType2', 'BsmtFinSF2', 'BsmtUnfSF', 'TotalBsmtSF', 'Heating',\n",
    "       'HeatingQC', 'CentralAir', 'Electrical', '1stFlrSF', '2ndFlrSF',\n",
    "       'LowQualFinSF', 'GrLivArea', 'BsmtFullBath', 'BsmtHalfBath', 'FullBath',\n",
    "       'HalfBath', 'BedroomAbvGr', 'KitchenAbvGr', 'KitchenQual',\n",
    "       'TotRmsAbvGrd', 'Functional', 'Fireplaces', 'FireplaceQu', 'GarageType',\n",
    "       'GarageYrBlt', 'GarageFinish', 'GarageCars', 'GarageArea', 'GarageQual',\n",
    "       'GarageCond', 'PavedDrive', 'WoodDeckSF', 'OpenPorchSF',\n",
    "       'EnclosedPorch', '3SsnPorch', 'ScreenPorch', 'PoolArea', 'PoolQC',\n",
    "       'Fence', 'MiscFeature', 'MiscVal', 'MoSold', 'YrSold', 'SaleCondition',\n",
    "       'SalePrice']\n",
    "features = []\n",
    "for col in df.columns:\n",
    "    if col not in exclude:\n",
    "        features.append(col)"
   ]
  },
  {
   "cell_type": "code",
   "execution_count": null,
   "id": "71192014-c01e-433a-a32e-406da8bfa521",
   "metadata": {},
   "outputs": [],
   "source": [
    "X = df[features]\n",
    "y = df[target]"
   ]
  },
  {
   "cell_type": "code",
   "execution_count": null,
   "id": "64babadd-cc20-4854-b899-3de6bb346bae",
   "metadata": {},
   "outputs": [],
   "source": [
    "X_train, X_test, y_train, y_test = \\\n",
    "    train_test_split(X, y, test_size=0.3) # データを7:3に分ける"
   ]
  },
  {
   "cell_type": "code",
   "execution_count": null,
   "id": "aeb456f5-c9a9-44f9-bb99-116c5053c912",
   "metadata": {},
   "outputs": [],
   "source": [
    "lm = LinearRegression()\n",
    "lm.fit(X_train, y_train)\n",
    "y_pred = lm.predict(X_test)\n",
    "rmse = mean_squared_error(y_test, y_pred)\n",
    "print(np.sqrt(rmse))"
   ]
  },
  {
   "cell_type": "code",
   "execution_count": null,
   "id": "43e1e06a-1fdd-47a9-847a-82aad51950fc",
   "metadata": {},
   "outputs": [],
   "source": [
    "coef = pd.DataFrame(lm.coef_, columns=[\"coef\"], index=features)\n",
    "coef"
   ]
  },
  {
   "cell_type": "code",
   "execution_count": null,
   "id": "844928a3-c9d7-45f9-80ec-53cea7bb0141",
   "metadata": {},
   "outputs": [],
   "source": [
    "coef.plot(kind=\"bar\")"
   ]
  },
  {
   "cell_type": "markdown",
   "id": "a3f38bcd-c5a9-4a3e-93b3-2b7f2761ce24",
   "metadata": {},
   "source": [
    "## 予測結果の出力"
   ]
  },
  {
   "cell_type": "code",
   "execution_count": null,
   "id": "f42927a3-65c6-4fd3-87d6-ee62ab11a8ad",
   "metadata": {},
   "outputs": [],
   "source": [
    "# ファイル読み込み\n",
    "test = pd.read_csv('data/test.csv')"
   ]
  },
  {
   "cell_type": "code",
   "execution_count": null,
   "id": "44691944-3fa0-4b32-b76f-80b599123681",
   "metadata": {},
   "outputs": [],
   "source": [
    "# train と同じ処理を実施\n",
    "test['LotFrontage'] = test[\"LotFrontage\"].fillna(test[\"LotFrontage\"].mean())\n",
    "#test = pd.get_dummies(data=test, columns=[\"SaleType\"])"
   ]
  },
  {
   "cell_type": "code",
   "execution_count": null,
   "id": "55e7dfd0-6d95-4886-8491-0ccd6e14bde6",
   "metadata": {},
   "outputs": [],
   "source": [
    "# 列の差分を追加（train にあって test にない列）\n",
    "dif = list(filter(lambda x: x not in test.columns, df.columns))\n",
    "test = pd.concat([test, df[dif].head(0)], axis=1)\n",
    "test = test.fillna(0)"
   ]
  },
  {
   "cell_type": "code",
   "execution_count": null,
   "id": "e6cc4b73-9181-4d29-b9e0-2e0448bfa591",
   "metadata": {},
   "outputs": [],
   "source": [
    "# 特徴量の設定\n",
    "testX = test[features]\n",
    "# 予測\n",
    "pred = lm.predict(testX)\n",
    "# 予測結果を新しいカラムに設定\n",
    "test['SalePrice'] = pred\n",
    "# ID と予測結果を CSV 出力\n",
    "test[['Id','SalePrice']].to_csv('submission.csv',index=False)"
   ]
  }
 ],
 "metadata": {
  "kernelspec": {
   "display_name": "Python 3 (ipykernel)",
   "language": "python",
   "name": "python3"
  },
  "language_info": {
   "codemirror_mode": {
    "name": "ipython",
    "version": 3
   },
   "file_extension": ".py",
   "mimetype": "text/x-python",
   "name": "python",
   "nbconvert_exporter": "python",
   "pygments_lexer": "ipython3",
   "version": "3.9.10"
  }
 },
 "nbformat": 4,
 "nbformat_minor": 5
}
