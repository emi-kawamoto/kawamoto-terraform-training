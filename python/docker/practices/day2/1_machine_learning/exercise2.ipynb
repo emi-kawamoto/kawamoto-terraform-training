{
 "cells": [
  {
   "cell_type": "code",
   "execution_count": null,
   "id": "2c5dd0e7-f7ec-4097-9076-6344f7174dec",
   "metadata": {},
   "outputs": [],
   "source": []
  }
 ],
 "metadata": {
  "kernelspec": {
   "display_name": "Python 3",
   "language": "python",
   "name": "python3"
  },
  "language_info": {
   "codemirror_mode": {
    "name": "ipython",
    "version": 3
   },
   "file_extension": ".py",
   "mimetype": "text/x-python",
   "name": "python",
   "nbconvert_exporter": "python",
   "pygments_lexer": "ipython3",
   "version": "3.10.8 (main, Dec  2 2022, 09:20:14) [Clang 13.1.6 (clang-1316.0.21.2.5)]"
  },
  "vscode": {
   "interpreter": {
    "hash": "1aae6bc31a758f91b8b6674df568b9955779d5b8433a6df7fb5a248ccd4f8b19"
   }
  }
 },
 "nbformat": 4,
 "nbformat_minor": 5
}
