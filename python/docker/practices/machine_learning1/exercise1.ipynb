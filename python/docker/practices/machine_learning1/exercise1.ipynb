{
 "cells": [
  {
   "cell_type": "code",
   "execution_count": null,
   "id": "2c5dd0e7-f7ec-4097-9076-6344f7174dec",
   "metadata": {},
   "outputs": [],
   "source": [
    "import pandas as pd\n",
    "dataset = pd.read_csv(\"data/train.csv\") # CSV ファイルを読み込み"
   ]
  },
  {
   "cell_type": "code",
   "execution_count": null,
   "id": "91b01554-ec2c-43d5-bb21-78a6e63c9387",
   "metadata": {},
   "outputs": [],
   "source": [
    "dataset.head() # データを先頭から5件確認（任意）"
   ]
  },
  {
   "cell_type": "code",
   "execution_count": null,
   "id": "78aeb78e-7fea-40f9-bf71-8f5fa8fa9959",
   "metadata": {},
   "outputs": [],
   "source": [
    "dataset.describe() #要約統計量を確認（任意）"
   ]
  },
  {
   "cell_type": "code",
   "execution_count": null,
   "id": "b0dfcabd-bd9c-428f-8840-54a55c680dc2",
   "metadata": {},
   "outputs": [],
   "source": [
    "dataset[\"Age\"] = dataset[\"Age\"].fillna(dataset[\"Age\"].median()) # Ageが空白のデータに中央値のAgeを設定"
   ]
  },
  {
   "cell_type": "code",
   "execution_count": null,
   "id": "9f3714cc-d153-486c-9b7d-861da763b4c5",
   "metadata": {},
   "outputs": [],
   "source": [
    "featureColumns =[\"Pclass\",\"Age\"] # 特徴量（予測するためのデータ項目）\n",
    "target = \"Survived\" # 目的変数（予測したいデータ項目）\n",
    "\n",
    "X = dataset[featureColumns] # 特徴量\n",
    "y = dataset[target] # 目的変数\n",
    "\n"
   ]
  },
  {
   "cell_type": "code",
   "execution_count": null,
   "id": "1576f1ec-c34a-40c4-b2a9-2c0d10a7c9a3",
   "metadata": {},
   "outputs": [],
   "source": [
    "from sklearn.model_selection import train_test_split\n",
    "X_train, X_test, y_train, y_test = train_test_split(X, y, test_size=0.3) # データを7:3に分ける"
   ]
  },
  {
   "cell_type": "code",
   "execution_count": null,
   "id": "59e1de49-dc3f-4519-8675-ff1f6c9273d2",
   "metadata": {},
   "outputs": [],
   "source": [
    "from sklearn.tree import DecisionTreeClassifier\n",
    "tree_model = DecisionTreeClassifier() # 決定木というモデルを選択\n",
    "tree_model.fit(X_train, y_train) # 7割のデータを使ってモデルを学習"
   ]
  },
  {
   "cell_type": "code",
   "execution_count": null,
   "id": "b80f98d3-132e-4a0b-b083-fa4fd8ca27f1",
   "metadata": {},
   "outputs": [],
   "source": [
    "from sklearn.metrics import accuracy_score\n",
    "y_pred = tree_model.predict(X_test) # 学習したモデルで3割のデータを使って予測\n",
    "print(accuracy_score(y_test, y_pred)) # 正解率を表示（予測した結果と実際のデータが、どれだけ一致しているか？）"
   ]
  },
  {
   "cell_type": "code",
   "execution_count": null,
   "id": "c1d19315-8923-4de2-bdee-554c7a6bec43",
   "metadata": {},
   "outputs": [],
   "source": []
  }
 ],
 "metadata": {
  "kernelspec": {
   "display_name": "Python 3 (ipykernel)",
   "language": "python",
   "name": "python3"
  },
  "language_info": {
   "codemirror_mode": {
    "name": "ipython",
    "version": 3
   },
   "file_extension": ".py",
   "mimetype": "text/x-python",
   "name": "python",
   "nbconvert_exporter": "python",
   "pygments_lexer": "ipython3",
   "version": "3.11.6"
  },
  "vscode": {
   "interpreter": {
    "hash": "1aae6bc31a758f91b8b6674df568b9955779d5b8433a6df7fb5a248ccd4f8b19"
   }
  }
 },
 "nbformat": 4,
 "nbformat_minor": 5
}
