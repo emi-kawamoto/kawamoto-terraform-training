{
 "cells": [
  {
   "cell_type": "markdown",
   "id": "68a2157d-a06a-4036-84a5-a34b49b70543",
   "metadata": {},
   "source": [
    "## サンプル"
   ]
  },
  {
   "cell_type": "code",
   "execution_count": null,
   "id": "f89a559c-e5c7-4097-b1dc-51101b9af465",
   "metadata": {},
   "outputs": [],
   "source": [
    "import pandas as pd\n",
    "dataset = pd.read_csv(\"data/train.csv\") # CSV ファイルを読み込み"
   ]
  },
  {
   "cell_type": "code",
   "execution_count": null,
   "id": "44db910b-6412-448a-a4be-3fbae6b3d75e",
   "metadata": {},
   "outputs": [],
   "source": [
    "dataset.head() # データを先頭から5件確認（任意）"
   ]
  },
  {
   "cell_type": "code",
   "execution_count": null,
   "id": "0521bdb6-360d-4f5c-ad29-d2f8f3ab51fb",
   "metadata": {},
   "outputs": [],
   "source": [
    "dataset.describe() #要約統計量を確認（任意）"
   ]
  },
  {
   "cell_type": "code",
   "execution_count": null,
   "id": "effa9429-f30c-4cb7-889d-2d1269ec2ad3",
   "metadata": {},
   "outputs": [],
   "source": [
    "dataset[\"Age\"] = dataset[\"Age\"].fillna(dataset[\"Age\"].median()) # Ageが空白のデータに中央値のAgeを設定"
   ]
  },
  {
   "cell_type": "code",
   "execution_count": null,
   "id": "5ee86948-9a8c-47b5-84aa-3ddbb519add1",
   "metadata": {},
   "outputs": [],
   "source": [
    "featureColumns =[\"Pclass\",\"Age\"] # 特徴量（予測するためのデータ項目）\n",
    "target = \"Survived\" # 目的変数（予測したいデータ項目）\n",
    "\n",
    "X = dataset[featureColumns] # 特徴量\n",
    "y = dataset[target] # 目的変数"
   ]
  },
  {
   "cell_type": "code",
   "execution_count": null,
   "id": "c3af8b1f-855d-4c86-909f-39a11f8a9853",
   "metadata": {},
   "outputs": [],
   "source": [
    "from sklearn.model_selection import train_test_split\n",
    "X_train, X_test, y_train, y_test = train_test_split(X, y, test_size=0.3) # データを7:3に分ける"
   ]
  },
  {
   "cell_type": "code",
   "execution_count": null,
   "id": "36bd7664-4ccf-4c4b-b689-fda7d3fd6c7c",
   "metadata": {},
   "outputs": [],
   "source": [
    "from sklearn.tree import DecisionTreeClassifier\n",
    "tree_model = DecisionTreeClassifier() # 決定木というモデルを選択\n",
    "tree_model.fit(X_train, y_train) # 7割のデータを使ってモデルを学習"
   ]
  },
  {
   "cell_type": "code",
   "execution_count": null,
   "id": "881d2114-85b1-460f-9661-f1861bfb058c",
   "metadata": {},
   "outputs": [],
   "source": [
    "from sklearn.metrics import accuracy_score\n",
    "y_pred = tree_model.predict(X_test) # 学習したモデルで3割のデータを使って予測\n",
    "print(accuracy_score(y_test, y_pred)) # 正解率を表示（予測した結果と実際のデータが、どれだけ一致しているか？）"
   ]
  }
 ],
 "metadata": {
  "kernelspec": {
   "display_name": "Python 3",
   "language": "python",
   "name": "python3"
  },
  "language_info": {
   "codemirror_mode": {
    "name": "ipython",
    "version": 3
   },
   "file_extension": ".py",
   "mimetype": "text/x-python",
   "name": "python",
   "nbconvert_exporter": "python",
   "pygments_lexer": "ipython3",
   "version": "3.10.8 (main, Dec  2 2022, 09:20:14) [Clang 13.1.6 (clang-1316.0.21.2.5)]"
  },
  "vscode": {
   "interpreter": {
    "hash": "1aae6bc31a758f91b8b6674df568b9955779d5b8433a6df7fb5a248ccd4f8b19"
   }
  }
 },
 "nbformat": 4,
 "nbformat_minor": 5
}
