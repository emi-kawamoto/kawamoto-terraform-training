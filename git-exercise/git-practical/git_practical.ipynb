{
  "cells": [
    {
      "cell_type": "markdown",
      "metadata": {},
      "source": [
        "## colabを使うときの動作確認方法\n",
        "\n",
        "* `git-practical` ディレクトリをgoogle drive(マイドライブ)にアップロードする\n",
        "* アップロードしたフォルダからこの.ipynbファイルを開く\n",
        "* 下記のコードを実行する"
      ]
    },
    {
      "cell_type": "code",
      "execution_count": null,
      "metadata": {},
      "outputs": [],
      "source": [
        "from google.colab import drive\n",
        "drive.mount('/content/drive')"
      ]
    },
    {
      "cell_type": "code",
      "execution_count": null,
      "metadata": {},
      "outputs": [],
      "source": [
        "%cd /content/drive/MyDrive/git-practical\n",
        "import os\n",
        "os.chdir('/content/drive/MyDrive/git-practical/')"
      ]
    },
    {
      "cell_type": "code",
      "execution_count": null,
      "metadata": {
        "colab": {
          "base_uri": "https://localhost:8080/"
        },
        "id": "pnKm_3ObuxXb",
        "outputId": "a5ca857d-ad0e-4dfb-b269-4955cc5647b1"
      },
      "outputs": [],
      "source": [
        "# extract.pyを実行\n",
        "%run python/extract.py\n",
        "\n",
        "# 実行によって json/ に tenki.json が作成される\n",
        "%ls json"
      ]
    },
    {
      "cell_type": "code",
      "execution_count": null,
      "metadata": {
        "colab": {
          "base_uri": "https://localhost:8080/"
        },
        "id": "88tZfAlbv7g_",
        "outputId": "f2d4f078-5f5f-48ff-afbf-8f71c63f8c73"
      },
      "outputs": [],
      "source": [
        "# 作成されたjsonを確認\n",
        "import json\n",
        "\n",
        "with open('json/tenki.json', 'r', encoding=\"UTF-8\") as f:\n",
        "  data = json.load(f)\n",
        "\n",
        "print(json.dumps(data, indent=2))"
      ]
    },
    {
      "cell_type": "code",
      "execution_count": null,
      "metadata": {
        "colab": {
          "base_uri": "https://localhost:8080/"
        },
        "id": "-UhVvrN5wvE9",
        "outputId": "17cb1b98-e9f2-4bfe-a18a-68b028b1a317"
      },
      "outputs": [],
      "source": [
        "# transform.py を実行\n",
        "%run python/transform.py\n",
        "\n",
        "# 実行によって整形されたデータ　dim_cities.csv が作成される\n",
        "%ls"
      ]
    },
    {
      "cell_type": "code",
      "execution_count": null,
      "metadata": {
        "colab": {
          "base_uri": "https://localhost:8080/"
        },
        "id": "SYO9JGT3xIb0",
        "outputId": "b6ce2de1-faf9-4b2d-f1e8-3d6eeddbd0bf"
      },
      "outputs": [],
      "source": [
        "# csvの中身を確認\n",
        "# 都市ごとの週間天気情報が格納されている\n",
        "%cat dim_cities.csv"
      ]
    }
  ],
  "metadata": {
    "colab": {
      "provenance": []
    },
    "kernelspec": {
      "display_name": "Python 3",
      "name": "python3"
    },
    "language_info": {
      "name": "python"
    }
  },
  "nbformat": 4,
  "nbformat_minor": 0
}
